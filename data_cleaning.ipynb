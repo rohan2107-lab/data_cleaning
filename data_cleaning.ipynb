{
 "cells": [
  {
   "cell_type": "code",
   "execution_count": 1,
   "id": "524a8591-f9e3-403b-964d-c156a74a6ac3",
   "metadata": {},
   "outputs": [],
   "source": [
    "import pandas as pd\n"
   ]
  },
  {
   "cell_type": "code",
   "execution_count": 5,
   "id": "5bae4908-0730-4847-bab6-4638b105a8d7",
   "metadata": {},
   "outputs": [],
   "source": [
    "df = pd.read_csv(\"C:\\\\Users\\\\sushant singh\\\\Downloads\\\\marketing_campaign.csv\") "
   ]
  },
  {
   "cell_type": "code",
   "execution_count": 7,
   "id": "058a3283-aeac-4d67-aac0-4fda31546fd5",
   "metadata": {},
   "outputs": [
    {
     "name": "stdout",
     "output_type": "stream",
     "text": [
      "  ID\\tYear_Birth\\tEducation\\tMarital_Status\\tIncome\\tKidhome\\tTeenhome\\tDt_Customer\\tRecency\\tMntWines\\tMntFruits\\tMntMeatProducts\\tMntFishProducts\\tMntSweetProducts\\tMntGoldProds\\tNumDealsPurchases\\tNumWebPurchases\\tNumCatalogPurchases\\tNumStorePurchases\\tNumWebVisitsMonth\\tAcceptedCmp3\\tAcceptedCmp4\\tAcceptedCmp5\\tAcceptedCmp1\\tAcceptedCmp2\\tComplain\\tZ_CostContact\\tZ_Revenue\\tResponse\n",
      "0  5524\\t1957\\tGraduation\\tSingle\\t58138\\t0\\t0\\t0...                                                                                                                                                                                                                                                                                                                                                  \n",
      "1  2174\\t1954\\tGraduation\\tSingle\\t46344\\t1\\t1\\t0...                                                                                                                                                                                                                                                                                                                                                  \n",
      "2  4141\\t1965\\tGraduation\\tTogether\\t71613\\t0\\t0\\...                                                                                                                                                                                                                                                                                                                                                  \n",
      "3  6182\\t1984\\tGraduation\\tTogether\\t26646\\t1\\t0\\...                                                                                                                                                                                                                                                                                                                                                  \n",
      "4  5324\\t1981\\tPhD\\tMarried\\t58293\\t1\\t0\\t19-01-2...                                                                                                                                                                                                                                                                                                                                                  \n",
      "5  7446\\t1967\\tMaster\\tTogether\\t62513\\t0\\t1\\t09-...                                                                                                                                                                                                                                                                                                                                                  \n",
      "6  965\\t1971\\tGraduation\\tDivorced\\t55635\\t0\\t1\\t...                                                                                                                                                                                                                                                                                                                                                  \n",
      "7  6177\\t1985\\tPhD\\tMarried\\t33454\\t1\\t0\\t08-05-2...                                                                                                                                                                                                                                                                                                                                                  \n",
      "8  4855\\t1974\\tPhD\\tTogether\\t30351\\t1\\t0\\t06-06-...                                                                                                                                                                                                                                                                                                                                                  \n",
      "9  5899\\t1950\\tPhD\\tTogether\\t5648\\t1\\t1\\t13-03-2...                                                                                                                                                                                                                                                                                                                                                  \n"
     ]
    }
   ],
   "source": [
    "print (df.head(10))"
   ]
  },
  {
   "cell_type": "code",
   "execution_count": 11,
   "id": "543c49aa-1d9a-49ad-85d9-2a42e555b19c",
   "metadata": {},
   "outputs": [
    {
     "name": "stdout",
     "output_type": "stream",
     "text": [
      "missing value before cleaning:\n",
      " <bound method DataFrame.sum of       ID\\tYear_Birth\\tEducation\\tMarital_Status\\tIncome\\tKidhome\\tTeenhome\\tDt_Customer\\tRecency\\tMntWines\\tMntFruits\\tMntMeatProducts\\tMntFishProducts\\tMntSweetProducts\\tMntGoldProds\\tNumDealsPurchases\\tNumWebPurchases\\tNumCatalogPurchases\\tNumStorePurchases\\tNumWebVisitsMonth\\tAcceptedCmp3\\tAcceptedCmp4\\tAcceptedCmp5\\tAcceptedCmp1\\tAcceptedCmp2\\tComplain\\tZ_CostContact\\tZ_Revenue\\tResponse\n",
      "0                                                 False                                                                                                                                                                                                                                                                                                                                                   \n",
      "1                                                 False                                                                                                                                                                                                                                                                                                                                                   \n",
      "2                                                 False                                                                                                                                                                                                                                                                                                                                                   \n",
      "3                                                 False                                                                                                                                                                                                                                                                                                                                                   \n",
      "4                                                 False                                                                                                                                                                                                                                                                                                                                                   \n",
      "...                                                 ...                                                                                                                                                                                                                                                                                                                                                   \n",
      "2235                                              False                                                                                                                                                                                                                                                                                                                                                   \n",
      "2236                                              False                                                                                                                                                                                                                                                                                                                                                   \n",
      "2237                                              False                                                                                                                                                                                                                                                                                                                                                   \n",
      "2238                                              False                                                                                                                                                                                                                                                                                                                                                   \n",
      "2239                                              False                                                                                                                                                                                                                                                                                                                                                   \n",
      "\n",
      "[2240 rows x 1 columns]>\n"
     ]
    }
   ],
   "source": [
    "print (\"missing value before cleaning:\\n\",df.isnull().sum)"
   ]
  },
  {
   "cell_type": "code",
   "execution_count": 15,
   "id": "720794d8-e07c-4e1b-b2ac-c4ba57b71c39",
   "metadata": {},
   "outputs": [],
   "source": [
    "df = df.fillna({\n",
    "    'Gender': 'Unknown',   \n",
    "    'Country': 'Unknown',\n",
    "})"
   ]
  },
  {
   "cell_type": "code",
   "execution_count": 17,
   "id": "3d628b7c-7318-494f-8111-f453d40fcca0",
   "metadata": {},
   "outputs": [],
   "source": [
    "df = df.drop_duplicates()\n"
   ]
  },
  {
   "cell_type": "code",
   "execution_count": 31,
   "id": "fd4ab053-dc64-44bf-8fb7-b73c8ff51213",
   "metadata": {},
   "outputs": [],
   "source": [
    "if 'Date' in df.columns:\n",
    "    df['Date'] = pd.to_datetime(df['Date'], errors='coerce')  # convert to datetime\n",
    "    df['Date'] = df['Date'].dt.strftime('%d-%m-%Y')    "
   ]
  },
  {
   "cell_type": "code",
   "execution_count": 33,
   "id": "2166dfbf-78cb-49e0-833c-5c8ef11ddfd3",
   "metadata": {},
   "outputs": [],
   "source": [
    "df.columns = df.columns.str.strip().str.lower().str.replace(\" \", \"_\")"
   ]
  },
  {
   "cell_type": "code",
   "execution_count": 35,
   "id": "ecba1063-ff88-4fd8-92fc-0b70d47a4aaf",
   "metadata": {},
   "outputs": [],
   "source": [
    "df.to_csv(\"marketing_campaign_cleaned.csv\", index=False)"
   ]
  },
  {
   "cell_type": "code",
   "execution_count": 43,
   "id": "719f96b6-0596-415e-a462-12cd199496d8",
   "metadata": {},
   "outputs": [],
   "source": [
    "df.columns = df.columns.str.strip().str.lower().str.replace(\" \", \"_\")\n"
   ]
  },
  {
   "cell_type": "code",
   "execution_count": 45,
   "id": "009ab28e-65e2-436f-8fdc-27f5f47c670c",
   "metadata": {},
   "outputs": [
    {
     "name": "stdout",
     "output_type": "stream",
     "text": [
      " Data cleaned and saved as 'marketing_campaign_cleaned.csv'\n"
     ]
    }
   ],
   "source": [
    "print(\" Data cleaned and saved as 'marketing_campaign_cleaned.csv'\")\n",
    "\n"
   ]
  },
  {
   "cell_type": "code",
   "execution_count": null,
   "id": "f0e1b293-3f13-43e5-b468-61f21f432439",
   "metadata": {},
   "outputs": [],
   "source": []
  }
 ],
 "metadata": {
  "kernelspec": {
   "display_name": "Python 3 (ipykernel)",
   "language": "python",
   "name": "python3"
  },
  "language_info": {
   "codemirror_mode": {
    "name": "ipython",
    "version": 3
   },
   "file_extension": ".py",
   "mimetype": "text/x-python",
   "name": "python",
   "nbconvert_exporter": "python",
   "pygments_lexer": "ipython3",
   "version": "3.12.4"
  }
 },
 "nbformat": 4,
 "nbformat_minor": 5
}
